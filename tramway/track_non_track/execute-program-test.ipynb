{
 "cells": [
  {
   "cell_type": "code",
   "execution_count": 1,
   "metadata": {},
   "outputs": [],
   "source": [
    "%load_ext autoreload\n",
    "%autoreload 2\n",
    "%matplotlib inline"
   ]
  },
  {
   "cell_type": "code",
   "execution_count": 2,
   "metadata": {},
   "outputs": [],
   "source": [
    "import numpy as np \n",
    "import pandas as pd\n",
    "\n",
    "import sys\n",
    "import argparse\n",
    "from   os.path import abspath\n",
    "import gc\n",
    "import os\n",
    "from file_processing_loc import *\n"
   ]
  },
  {
   "cell_type": "code",
   "execution_count": 3,
   "metadata": {},
   "outputs": [],
   "source": [
    "path = \"data-examples/\"\n",
    "name = \"Manip01-01-Beta400AA-01-15ms.rpt.xyt\"\n",
    "path_tot = path + name"
   ]
  },
  {
   "cell_type": "code",
   "execution_count": 4,
   "metadata": {},
   "outputs": [],
   "source": [
    "xyt, xyt_pandas = load_xyt(path_tot)"
   ]
  },
  {
   "cell_type": "code",
   "execution_count": 5,
   "metadata": {},
   "outputs": [],
   "source": [
    "movie_per_frame, n_unique = convert_to_list(xyt)"
   ]
  },
  {
   "cell_type": "code",
   "execution_count": 6,
   "metadata": {},
   "outputs": [],
   "source": [
    "dt_theo, t_init, t_end = get_dt(movie_per_frame, n_unique)"
   ]
  },
  {
   "cell_type": "code",
   "execution_count": 7,
   "metadata": {},
   "outputs": [],
   "source": [
    "sigma, D_high, length_high = get_local_parameters_accessible_elsewhere_in_tramway(dt_theo)"
   ]
  },
  {
   "cell_type": "code",
   "execution_count": 8,
   "metadata": {},
   "outputs": [
    {
     "ename": "ValueError",
     "evalue": "too many values to unpack (expected 10)",
     "output_type": "error",
     "traceback": [
      "\u001b[0;31m---------------------------------------------------------------------------\u001b[0m",
      "\u001b[0;31mValueError\u001b[0m                                Traceback (most recent call last)",
      "\u001b[0;32m<ipython-input-8-11dc5d17cdc1>\u001b[0m in \u001b[0;36m<module>\u001b[0;34m\u001b[0m\n\u001b[1;32m      1\u001b[0m \u001b[0mindice\u001b[0m   \u001b[0;34m=\u001b[0m \u001b[0;36m2\u001b[0m\u001b[0;34m\u001b[0m\u001b[0;34m\u001b[0m\u001b[0m\n\u001b[1;32m      2\u001b[0m \u001b[0mC\u001b[0m        \u001b[0;34m=\u001b[0m \u001b[0mget_cost_function\u001b[0m\u001b[0;34m(\u001b[0m\u001b[0mindice\u001b[0m\u001b[0;34m,\u001b[0m \u001b[0mmovie_per_frame\u001b[0m\u001b[0;34m)\u001b[0m\u001b[0;34m\u001b[0m\u001b[0;34m\u001b[0m\u001b[0m\n\u001b[0;32m----> 3\u001b[0;31m \u001b[0mC_reduced_corrected\u001b[0m\u001b[0;34m,\u001b[0m \u001b[0mC_reduced\u001b[0m\u001b[0;34m,\u001b[0m \u001b[0medge\u001b[0m\u001b[0;34m,\u001b[0m \u001b[0md_max\u001b[0m\u001b[0;34m,\u001b[0m \u001b[0mrow_reduced\u001b[0m\u001b[0;34m,\u001b[0m \u001b[0mcol_reduced\u001b[0m\u001b[0;34m,\u001b[0m\u001b[0mM\u001b[0m\u001b[0;34m,\u001b[0m\u001b[0mN\u001b[0m\u001b[0;34m,\u001b[0m \u001b[0mn_row_reduced\u001b[0m\u001b[0;34m,\u001b[0m \u001b[0mn_col_reduced\u001b[0m \u001b[0;34m=\u001b[0m \u001b[0mcorrect_cost_function\u001b[0m\u001b[0;34m(\u001b[0m\u001b[0mC\u001b[0m\u001b[0;34m,\u001b[0m\u001b[0mlength_high\u001b[0m\u001b[0;34m)\u001b[0m\u001b[0;34m\u001b[0m\u001b[0;34m\u001b[0m\u001b[0m\n\u001b[0m\u001b[1;32m      4\u001b[0m \u001b[0mrow_reduced\u001b[0m      \u001b[0;34m=\u001b[0m \u001b[0mnp\u001b[0m\u001b[0;34m.\u001b[0m\u001b[0msqueeze\u001b[0m\u001b[0;34m(\u001b[0m\u001b[0mnp\u001b[0m\u001b[0;34m.\u001b[0m\u001b[0marray\u001b[0m\u001b[0;34m(\u001b[0m\u001b[0mrow_reduced\u001b[0m\u001b[0;34m)\u001b[0m\u001b[0;34m)\u001b[0m\u001b[0;34m\u001b[0m\u001b[0;34m\u001b[0m\u001b[0m\n\u001b[1;32m      5\u001b[0m \u001b[0mcol_reduced\u001b[0m      \u001b[0;34m=\u001b[0m \u001b[0mnp\u001b[0m\u001b[0;34m.\u001b[0m\u001b[0msqueeze\u001b[0m\u001b[0;34m(\u001b[0m\u001b[0mnp\u001b[0m\u001b[0;34m.\u001b[0m\u001b[0marray\u001b[0m\u001b[0;34m(\u001b[0m\u001b[0mcol_reduced\u001b[0m\u001b[0;34m)\u001b[0m\u001b[0;34m)\u001b[0m\u001b[0;34m\u001b[0m\u001b[0;34m\u001b[0m\u001b[0m\n",
      "\u001b[0;31mValueError\u001b[0m: too many values to unpack (expected 10)"
     ]
    }
   ],
   "source": [
    "indice   = 2\n",
    "C        = get_cost_function(indice, movie_per_frame)\n",
    "C_reduced_corrected, C_reduced, edge, d_max, row_reduced, col_reduced,M,N, n_row_reduced, n_col_reduced = correct_cost_function(C,length_high)\n",
    "row_reduced      = np.squeeze(np.array(row_reduced))\n",
    "col_reduced      = np.squeeze(np.array(col_reduced))\n",
    "print(row_reduced.shape)\n",
    "print((M,N))\n",
    "print((n_row_reduced, n_col_reduced))"
   ]
  },
  {
   "cell_type": "code",
   "execution_count": null,
   "metadata": {},
   "outputs": [],
   "source": [
    "plt.matshow(C_reduced_corrected)"
   ]
  },
  {
   "cell_type": "code",
   "execution_count": null,
   "metadata": {},
   "outputs": [],
   "source": [
    "inf_loc          = np.isinf(C_reduced_corrected)\n",
    "C_reduced_corrected[inf_loc] = d_max*1e10"
   ]
  },
  {
   "cell_type": "code",
   "execution_count": null,
   "metadata": {},
   "outputs": [],
   "source": [
    "row_ind, col_ind = linear_sum_assignment(C_reduced_corrected)\n",
    "print(row_ind)\n",
    "print(col_ind)\n",
    "print((row_ind.shape, col_ind.shape))"
   ]
  },
  {
   "cell_type": "code",
   "execution_count": null,
   "metadata": {},
   "outputs": [],
   "source": [
    "global_row       = []\n",
    "global_col       = []\n",
    "\n",
    "assingment       = np.zeros((M,N))\n",
    "for i in range(len(row_reduced)):\n",
    "    if col_ind[i] < n_col_reduced:\n",
    "        coll    = col_reduced[col_ind[i]]\n",
    "        index   = row_reduced[i]\n",
    "    \n",
    "    global_row.append(index)\n",
    "    global_col.append(coll)\n",
    "    assingment[index,col_ind]  = 1    \n",
    "\n",
    "#index            = row_reduced[row_ind[0:n_row_reduced]]\n",
    "#coll             = col_reduced[col_ind[0:n_row_reduced]]\n",
    "#assingment       = np.zeros((M,N))\n",
    "#assingment[index,col_ind]     = 1"
   ]
  },
  {
   "cell_type": "code",
   "execution_count": null,
   "metadata": {},
   "outputs": [],
   "source": [
    "print(global_row)"
   ]
  },
  {
   "cell_type": "code",
   "execution_count": null,
   "metadata": {},
   "outputs": [],
   "source": [
    "plot_linking_two_images(movie_per_frame, indice, global_row, global_col )"
   ]
  },
  {
   "cell_type": "markdown",
   "metadata": {},
   "source": [
    "index            = row_reduced[row_ind[1:30]]\n",
    "assingment       = np.zeros((M,N))\n",
    "assingment[index,col_ind]     = 1"
   ]
  },
  {
   "cell_type": "code",
   "execution_count": null,
   "metadata": {},
   "outputs": [],
   "source": [
    "plt.matshow(C_reduced_corrected)"
   ]
  },
  {
   "cell_type": "code",
   "execution_count": null,
   "metadata": {},
   "outputs": [],
   "source": [
    "row_ind, col_ind = linear_sum_assignment(C_reduced_corrected)"
   ]
  },
  {
   "cell_type": "code",
   "execution_count": null,
   "metadata": {},
   "outputs": [],
   "source": [
    "print(n_add)"
   ]
  },
  {
   "cell_type": "code",
   "execution_count": null,
   "metadata": {},
   "outputs": [],
   "source": [
    "assingment,row_ind, col_ind =give_optimal_assigment(C, length_high)"
   ]
  },
  {
   "cell_type": "code",
   "execution_count": null,
   "metadata": {},
   "outputs": [],
   "source": [
    "plot_linking_two_images(movie_per_frame, indice, row_ind, col_ind )"
   ]
  },
  {
   "cell_type": "code",
   "execution_count": null,
   "metadata": {},
   "outputs": [],
   "source": [
    "(M,N)            = C.shape\n",
    "l2               = length_high**2\n",
    "#print(np.sqrt(l2))\n",
    "C[C>l2]          = np.inf"
   ]
  },
  {
   "cell_type": "code",
   "execution_count": null,
   "metadata": {},
   "outputs": [],
   "source": [
    "row_ind, col_ind = linear_sum_assignment(C)"
   ]
  },
  {
   "cell_type": "code",
   "execution_count": null,
   "metadata": {},
   "outputs": [],
   "source": [
    "def linear_sum_assignment_with_inf(cost_matrix):\n",
    "    cost_matrix = np.asarray(cost_matrix)\n",
    "    min_inf = np.isneginf(cost_matrix).any()\n",
    "    max_inf = np.isposinf(cost_matrix).any()\n",
    "    if min_inf and max_inf:\n",
    "        raise ValueError(\"matrix contains both inf and -inf\")\n",
    "\n",
    "    if min_inf or max_inf:\n",
    "        values = cost_matrix[~np.isinf(cost_matrix)]\n",
    "        m = values.min()\n",
    "        M = values.max()\n",
    "        n = min(cost_matrix.shape)\n",
    "        # strictly positive constant even when added\n",
    "        # to elements of the cost matrix\n",
    "        positive = n * (M - m + np.abs(M) + np.abs(m) + 1)\n",
    "        if max_inf:\n",
    "            place_holder = (M + (n - 1) * (M - m)) + positive\n",
    "        if min_inf:\n",
    "            place_holder = (m + (n - 1) * (m - M)) - positive\n",
    "\n",
    "    cost_matrix[np.isinf(cost_matrix)] = place_holder\n",
    "    return linear_sum_assignment(cost_matrix)"
   ]
  },
  {
   "cell_type": "code",
   "execution_count": null,
   "metadata": {},
   "outputs": [],
   "source": [
    "cost_matrix = C"
   ]
  },
  {
   "cell_type": "code",
   "execution_count": null,
   "metadata": {},
   "outputs": [],
   "source": [
    "    cost_matrix = np.asarray(cost_matrix)\n",
    "    min_inf = np.isneginf(cost_matrix).any()\n",
    "    max_inf = np.isposinf(cost_matrix).any()"
   ]
  },
  {
   "cell_type": "code",
   "execution_count": null,
   "metadata": {},
   "outputs": [],
   "source": [
    " min_inf and max_inf"
   ]
  },
  {
   "cell_type": "code",
   "execution_count": null,
   "metadata": {},
   "outputs": [],
   "source": [
    "if min_inf or max_inf:\n",
    "        values = cost_matrix[~np.isinf(cost_matrix)]\n",
    "        m = values.min()\n",
    "        M = values.max()\n",
    "        n = min(cost_matrix.shape)\n",
    "        # strictly positive constant even when added\n",
    "        # to elements of the cost matrix\n",
    "        positive = n * (M - m + np.abs(M) + np.abs(m) + 1)\n",
    "        if max_inf:\n",
    "            place_holder = (M + (n - 1) * (M - m)) + positive\n",
    "        if min_inf:\n",
    "            place_holder = (m + (n - 1) * (m - M)) - positive"
   ]
  },
  {
   "cell_type": "code",
   "execution_count": null,
   "metadata": {},
   "outputs": [],
   "source": [
    "cost_matrix[np.isinf(cost_matrix)] = place_holder"
   ]
  },
  {
   "cell_type": "code",
   "execution_count": null,
   "metadata": {},
   "outputs": [],
   "source": [
    "print(cost_matrix)"
   ]
  },
  {
   "cell_type": "code",
   "execution_count": null,
   "metadata": {},
   "outputs": [],
   "source": [
    "row_ind, col_ind = linear_sum_assignment(cost_matrix)"
   ]
  },
  {
   "cell_type": "code",
   "execution_count": null,
   "metadata": {},
   "outputs": [],
   "source": [
    "plot_linking_two_images(movie_per_frame, indice, row_ind, col_ind )"
   ]
  },
  {
   "cell_type": "code",
   "execution_count": null,
   "metadata": {},
   "outputs": [],
   "source": [
    "xyt1 = movie_per_frame[indice]\n",
    "xyt2 = movie_per_frame[indice+1]"
   ]
  },
  {
   "cell_type": "code",
   "execution_count": null,
   "metadata": {},
   "outputs": [],
   "source": [
    "print(assingment.shape)\n",
    "print(xyt1.shape)\n",
    "print(xyt2.shape)"
   ]
  },
  {
   "cell_type": "code",
   "execution_count": null,
   "metadata": {},
   "outputs": [],
   "source": [
    "print(row_ind)\n",
    "print(col_ind)"
   ]
  },
  {
   "cell_type": "code",
   "execution_count": null,
   "metadata": {},
   "outputs": [],
   "source": [
    "dx      = np.squeeze( xyt2[col_ind,0] -xyt1[row_ind,0] )\n",
    "dy      = np.squeeze( xyt2[col_ind,1] -xyt1[row_ind,1] )"
   ]
  },
  {
   "cell_type": "code",
   "execution_count": null,
   "metadata": {},
   "outputs": [],
   "source": [
    "print(np.sqrt(dx**2+ dy**2) )"
   ]
  },
  {
   "cell_type": "code",
   "execution_count": null,
   "metadata": {},
   "outputs": [],
   "source": [
    "assingment[row_ind,col_ind]"
   ]
  },
  {
   "cell_type": "code",
   "execution_count": null,
   "metadata": {},
   "outputs": [],
   "source": [
    "print(assingment[:,:])"
   ]
  },
  {
   "cell_type": "code",
   "execution_count": null,
   "metadata": {},
   "outputs": [],
   "source": [
    "dx =np.squeeze( xyt2[col_ind,0] -xyt1[row_ind,0])"
   ]
  },
  {
   "cell_type": "code",
   "execution_count": null,
   "metadata": {},
   "outputs": [],
   "source": [
    "dx.shape"
   ]
  },
  {
   "cell_type": "code",
   "execution_count": null,
   "metadata": {},
   "outputs": [],
   "source": [
    "np.squeeze(xyt2[col_ind,0]).shape"
   ]
  },
  {
   "cell_type": "code",
   "execution_count": null,
   "metadata": {},
   "outputs": [],
   "source": [
    "y_start = xyt1[row_ind,1]\n",
    "y_start.shape"
   ]
  },
  {
   "cell_type": "code",
   "execution_count": null,
   "metadata": {},
   "outputs": [],
   "source": [
    "dy = xyt2[col_ind,1] -xyt1[row_ind,1]"
   ]
  },
  {
   "cell_type": "code",
   "execution_count": null,
   "metadata": {},
   "outputs": [],
   "source": [
    "np.size(dy)"
   ]
  },
  {
   "cell_type": "code",
   "execution_count": null,
   "metadata": {},
   "outputs": [],
   "source": [
    "xyt1[:,0].shape"
   ]
  }
 ],
 "metadata": {
  "kernelspec": {
   "display_name": "Python 3",
   "language": "python",
   "name": "python3"
  },
  "language_info": {
   "codemirror_mode": {
    "name": "ipython",
    "version": 3
   },
   "file_extension": ".py",
   "mimetype": "text/x-python",
   "name": "python",
   "nbconvert_exporter": "python",
   "pygments_lexer": "ipython3",
   "version": "3.8.5"
  }
 },
 "nbformat": 4,
 "nbformat_minor": 2
}
