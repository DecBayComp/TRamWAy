{
 "cells": [
  {
   "cell_type": "code",
   "execution_count": 1,
   "metadata": {},
   "outputs": [],
   "source": [
    "%load_ext autoreload\n",
    "%autoreload 2\n",
    "%matplotlib inline"
   ]
  },
  {
   "cell_type": "code",
   "execution_count": 2,
   "metadata": {},
   "outputs": [],
   "source": [
    "import numpy as np \n",
    "import pandas as pd\n",
    "\n",
    "import sys\n",
    "sys.path.append(\"..\")\n",
    "import argparse\n",
    "from   os.path import abspath\n",
    "import gc\n",
    "import os\n",
    "from file_processing_loc import *\n",
    "from non_tracking_T_0 import *\n"
   ]
  },
  {
   "cell_type": "code",
   "execution_count": 3,
   "metadata": {},
   "outputs": [],
   "source": [
    "path = \"data-examples/\"\n",
    "name = \"c04_high_density.tsf.xyt\"\n",
    "path_tot = path + name"
   ]
  },
  {
   "cell_type": "code",
   "execution_count": 4,
   "metadata": {},
   "outputs": [],
   "source": [
    "xyt, xyt_pandas = load_xyt(path_tot)\n",
    "movie_per_frame, n_unique = convert_to_list(xyt)\n",
    "dt_theo, t_init, t_end = get_dt(movie_per_frame, n_unique)\n",
    "sigma, D_high, length_high = get_local_parameters_accessible_elsewhere_in_tramway(dt_theo)\n"
   ]
  },
  {
   "cell_type": "code",
   "execution_count": 5,
   "metadata": {},
   "outputs": [],
   "source": [
    "indice   = 55\n",
    "C        = get_cost_function(indice, movie_per_frame)\n",
    "#print(C.shape)\n",
    "C_reduced_corrected, C_reduced, edge, d_max, row_reduced, col_reduced,M,N, n_row_reduced, n_col_reduced,anomaly = correct_cost_function(C,length_high)\n",
    "#print((n_row_reduced, n_col_reduced))\n",
    "#print(C_reduced_corrected.shape)\n",
    "#print((M,N))\n",
    "assigment, global_row, global_col = get_assigment_matrix_from_reduced_cost(C_reduced_corrected,row_reduced,col_reduced,M,N,n_col_reduced,n_row_reduced,anomaly)\n",
    "#print((global_row, global_col))"
   ]
  },
  {
   "cell_type": "code",
   "execution_count": 6,
   "metadata": {},
   "outputs": [
    {
     "data": {
      "image/png": "[encoded data removed]",
      "text/plain": [
       "<Figure size 432x288 with 1 Axes>"
      ]
     },
     "metadata": {
      "needs_background": "light"
     },
     "output_type": "display_data"
    },
    {
     "data": {
      "text/plain": [
       "1"
      ]
     },
     "execution_count": 6,
     "metadata": {},
     "output_type": "execute_result"
    }
   ],
   "source": [
    "plot_linking_two_images(movie_per_frame, indice, global_row, global_col )"
   ]
  },
  {
   "cell_type": "code",
   "execution_count": 7,
   "metadata": {},
   "outputs": [
    {
     "name": "stdout",
     "output_type": "stream",
     "text": [
      "(0, 2001)\n",
      "(1000, 2001)\n"
     ]
    }
   ],
   "source": [
    "liste_assingment, liste_row, liste_col = get_all_assigment_stack(path_tot)"
   ]
  },
  {
   "cell_type": "code",
   "execution_count": 8,
   "metadata": {},
   "outputs": [
    {
     "name": "stdout",
     "output_type": "stream",
     "text": [
      "[ 3 10 12 20 19 22 35 33 44 46 51 52 59 50 54 56 63 67 61 73 80 71 82 78\n",
      " 88 89]\n"
     ]
    }
   ],
   "source": [
    "indice = 15\n",
    "print(liste_col[indice+1])"
   ]
  },
  {
   "cell_type": "code",
   "execution_count": 9,
   "metadata": {},
   "outputs": [
    {
     "name": "stdout",
     "output_type": "stream",
     "text": [
      "(86, 75)\n"
     ]
    }
   ],
   "source": [
    "print(liste_assingment[0].shape)"
   ]
  },
  {
   "cell_type": "code",
   "execution_count": 10,
   "metadata": {},
   "outputs": [
    {
     "name": "stdout",
     "output_type": "stream",
     "text": [
      "[ 4  6 23 32 43 44 47 48 59 60 63 66 77 78 85]\n",
      "[ 4  1 20 23 36 31 41 48 54 52 53 58 63 68 74]\n"
     ]
    }
   ],
   "source": [
    "print(liste_row[0])\n",
    "print(liste_col[0])"
   ]
  },
  {
   "cell_type": "code",
   "execution_count": 11,
   "metadata": {},
   "outputs": [
    {
     "name": "stdout",
     "output_type": "stream",
     "text": [
      "[ 2  4  9 10 20 29 31 35 40 47 52 53 54 55 58 67]\n",
      "[ 2 11 16 24 28 41 37 45 46 57 61 68 64 62 71 75]\n"
     ]
    }
   ],
   "source": [
    "print(liste_row[1])\n",
    "print(liste_col[1])"
   ]
  },
  {
   "cell_type": "code",
   "execution_count": 12,
   "metadata": {},
   "outputs": [
    {
     "name": "stdout",
     "output_type": "stream",
     "text": [
      "[23.2724 21.023  28.4708 24.7533 27.9472 34.1207 37.5283 38.1748 36.5855\n",
      " 36.4854 39.5693 41.9012 44.4351 43.4851 44.2703 45.5884 46.5944 47.8235\n",
      " 47.9065]\n",
      "[23.2232 21.018  28.5066 24.6674 27.9869 34.1819 37.7497 37.9713 36.5684\n",
      " 36.4393 39.5857 41.7883 44.7076 43.5916 44.3172 45.5043 46.6237 47.7228\n",
      " 47.838 ]\n",
      "[20.6409 24.6674 21.018  28.5066 32.6311 35.4913 36.5684 37.9713 41.5046\n",
      " 39.5857 44.2617 43.2173 43.5916 44.3172 46.6237 47.4609 47.838  47.7228\n",
      " 53.5513 56.3817]\n",
      "[20.744  24.5891 21.2689 28.5621 32.7086 35.4241 36.6515 38.0395 41.4111\n",
      " 39.6865 44.2578 43.2438 43.5216 44.383  46.5797 47.4812 47.9292 47.7948\n",
      " 53.5193 56.5661]\n"
     ]
    }
   ],
   "source": [
    "indice = 50\n",
    "print(movie_per_frame[indice][liste_row[indice],0])\n",
    "print(movie_per_frame[indice+1][liste_col[indice],0])\n",
    "\n",
    "print(movie_per_frame[indice+1][liste_row[indice+1],0])\n",
    "print(movie_per_frame[indice+2][liste_col[indice+1],0])"
   ]
  },
  {
   "cell_type": "code",
   "execution_count": 13,
   "metadata": {},
   "outputs": [
    {
     "name": "stdout",
     "output_type": "stream",
     "text": [
      "[23.2724 21.023  28.4708 24.7533 27.9472 34.1207 37.5283 38.1748 36.5855\n",
      " 36.4854 39.5693 41.9012 44.4351 43.4851 44.2703 45.5884 46.5944 47.8235\n",
      " 47.9065]\n",
      "[23.2232 21.018  28.5066 24.6674 27.9869 34.1819 37.7497 37.9713 36.5684\n",
      " 36.4393 39.5857 41.7883 44.7076 43.5916 44.3172 45.5043 46.6237 47.7228\n",
      " 47.838 ]\n",
      "[20.6409 24.6674 21.018  28.5066 32.6311 35.4913 36.5684 37.9713 41.5046\n",
      " 39.5857 44.2617 43.2173 43.5916 44.3172 46.6237 47.4609 47.838  47.7228\n",
      " 53.5513 56.3817]\n",
      "[20.744  24.5891 21.2689 28.5621 32.7086 35.4241 36.6515 38.0395 41.4111\n",
      " 39.6865 44.2578 43.2438 43.5216 44.383  46.5797 47.4812 47.9292 47.7948\n",
      " 53.5193 56.5661]\n"
     ]
    }
   ],
   "source": [
    "indice = 50\n",
    "xyt1 = movie_per_frame[indice]\n",
    "xyt2 = movie_per_frame[indice+1]\n",
    "xyt3 = movie_per_frame[indice+2] \n",
    "    \n",
    "row_ind  = liste_row[indice]\n",
    "col_ind  = liste_col[indice]    \n",
    "    \n",
    "row_ind2  = liste_row[indice+1]\n",
    "col_ind2  = liste_col[indice+1]   \n",
    "\n",
    "print(xyt1[row_ind,0])\n",
    "print(xyt2[col_ind,0])\n",
    "print(xyt2[row_ind2,0])\n",
    "print(xyt3[col_ind2,0])"
   ]
  },
  {
   "cell_type": "code",
   "execution_count": 14,
   "metadata": {},
   "outputs": [
    {
     "data": {
      "image/png": "[encoded data removed]",
      "text/plain": [
       "<Figure size 432x288 with 1 Axes>"
      ]
     },
     "metadata": {
      "needs_background": "light"
     },
     "output_type": "display_data"
    },
    {
     "data": {
      "text/plain": [
       "1"
      ]
     },
     "execution_count": 14,
     "metadata": {},
     "output_type": "execute_result"
    }
   ],
   "source": [
    "indice = 0\n",
    "plot_linking_from_list(movie_per_frame, indice, liste_row, liste_col )"
   ]
  },
  {
   "cell_type": "code",
   "execution_count": 15,
   "metadata": {},
   "outputs": [
    {
     "data": {
      "image/png": "[encoded data removed]",
      "text/plain": [
       "<Figure size 432x288 with 1 Axes>"
      ]
     },
     "metadata": {
      "needs_background": "light"
     },
     "output_type": "display_data"
    },
    {
     "data": {
      "text/plain": [
       "1"
      ]
     },
     "execution_count": 15,
     "metadata": {},
     "output_type": "execute_result"
    }
   ],
   "source": [
    "indice = 1\n",
    "plot_linking_from_list(movie_per_frame, indice, liste_row, liste_col )"
   ]
  },
  {
   "cell_type": "code",
   "execution_count": 16,
   "metadata": {},
   "outputs": [],
   "source": [
    "CC = get_cost_function(55, movie_per_frame)"
   ]
  },
  {
   "cell_type": "code",
   "execution_count": 17,
   "metadata": {},
   "outputs": [
    {
     "name": "stdout",
     "output_type": "stream",
     "text": [
      "47.92670856999991\n"
     ]
    }
   ],
   "source": [
    "print(CC[3,0])"
   ]
  },
  {
   "cell_type": "code",
   "execution_count": 18,
   "metadata": {},
   "outputs": [
    {
     "name": "stdout",
     "output_type": "stream",
     "text": [
      "47.92670856999991\n"
     ]
    }
   ],
   "source": [
    "indice  = 3\n",
    "indice2 = 0\n",
    "\n",
    "x2 = movie_per_frame[55+1][indice2,0]\n",
    "x1 = movie_per_frame[55][indice,0]\n",
    "\n",
    "y2 = movie_per_frame[55+1][indice2,1]\n",
    "y1 = movie_per_frame[55][indice,1]\n",
    "\n",
    "dx = x2 - x1\n",
    "dy = y2 - y1\n",
    "\n",
    "C  = dx**2 + dy**2\n",
    "print(C)"
   ]
  },
  {
   "cell_type": "code",
   "execution_count": 19,
   "metadata": {},
   "outputs": [
    {
     "data": {
      "image/png": "[encoded data removed]",
      "text/plain": [
       "<Figure size 432x288 with 1 Axes>"
      ]
     },
     "metadata": {
      "needs_background": "light"
     },
     "output_type": "display_data"
    },
    {
     "data": {
      "text/plain": [
       "1"
      ]
     },
     "execution_count": 19,
     "metadata": {},
     "output_type": "execute_result"
    }
   ],
   "source": [
    "indice = 1234\n",
    "plot_linking_from_list(movie_per_frame, indice, liste_row, liste_col )"
   ]
  },
  {
   "cell_type": "code",
   "execution_count": 20,
   "metadata": {},
   "outputs": [
    {
     "ename": "FileNotFoundError",
     "evalue": "[Errno 2] No such file or directory: '/Users/jbmasson/Desktop/test_displacement.txt'",
     "output_type": "error",
     "traceback": [
      "\u001b[0;31m---------------------------------------------------------------------------\u001b[0m",
      "\u001b[0;31mFileNotFoundError\u001b[0m                         Traceback (most recent call last)",
      "\u001b[0;32m<ipython-input-20-6e584dd99123>\u001b[0m in \u001b[0;36m<module>\u001b[0;34m\u001b[0m\n\u001b[1;32m      1\u001b[0m \u001b[0mpath_file\u001b[0m \u001b[0;34m=\u001b[0m \u001b[0;34m'/Users/jbmasson/Desktop/test_displacement.txt'\u001b[0m\u001b[0;34m\u001b[0m\u001b[0;34m\u001b[0m\u001b[0m\n\u001b[0;32m----> 2\u001b[0;31m \u001b[0mliste_array\u001b[0m  \u001b[0;34m=\u001b[0m \u001b[0mposition_and_displacement_from_assignment\u001b[0m\u001b[0;34m(\u001b[0m\u001b[0mliste_assingment\u001b[0m\u001b[0;34m,\u001b[0m \u001b[0mliste_row\u001b[0m\u001b[0;34m,\u001b[0m \u001b[0mliste_col\u001b[0m\u001b[0;34m,\u001b[0m\u001b[0mmovie_per_frame\u001b[0m\u001b[0;34m,\u001b[0m\u001b[0mpath_file\u001b[0m\u001b[0;34m)\u001b[0m\u001b[0;34m\u001b[0m\u001b[0;34m\u001b[0m\u001b[0m\n\u001b[0m",
      "\u001b[0;32m~/github/TRamWAy/tramway/track_non_track/non_tracking_T_0.py\u001b[0m in \u001b[0;36mposition_and_displacement_from_assignment\u001b[0;34m(liste_assingment, liste_row, liste_col, movie_per_frame, filename)\u001b[0m\n\u001b[1;32m     49\u001b[0m         \u001b[0mliste_array\u001b[0m \u001b[0;34m=\u001b[0m \u001b[0mnp\u001b[0m\u001b[0;34m.\u001b[0m\u001b[0mvstack\u001b[0m\u001b[0;34m(\u001b[0m\u001b[0mliste\u001b[0m\u001b[0;34m)\u001b[0m\u001b[0;34m\u001b[0m\u001b[0;34m\u001b[0m\u001b[0m\n\u001b[1;32m     50\u001b[0m \u001b[0;34m\u001b[0m\u001b[0m\n\u001b[0;32m---> 51\u001b[0;31m         \u001b[0mpd\u001b[0m\u001b[0;34m.\u001b[0m\u001b[0mDataFrame\u001b[0m\u001b[0;34m(\u001b[0m\u001b[0mliste_array\u001b[0m\u001b[0;34m)\u001b[0m\u001b[0;34m.\u001b[0m\u001b[0mto_csv\u001b[0m\u001b[0;34m(\u001b[0m\u001b[0mfilename\u001b[0m\u001b[0;34m,\u001b[0m \u001b[0mheader\u001b[0m\u001b[0;34m=\u001b[0m\u001b[0;32mNone\u001b[0m\u001b[0;34m,\u001b[0m \u001b[0mindex\u001b[0m\u001b[0;34m=\u001b[0m\u001b[0;36m0\u001b[0m\u001b[0;34m,\u001b[0m \u001b[0msep\u001b[0m\u001b[0;34m=\u001b[0m\u001b[0;34m\"\\t\"\u001b[0m\u001b[0;34m,\u001b[0m \u001b[0mfloat_format\u001b[0m\u001b[0;34m=\u001b[0m\u001b[0;34m'%e'\u001b[0m\u001b[0;34m)\u001b[0m\u001b[0;34m\u001b[0m\u001b[0;34m\u001b[0m\u001b[0m\n\u001b[0m\u001b[1;32m     52\u001b[0m \u001b[0;34m\u001b[0m\u001b[0m\n\u001b[1;32m     53\u001b[0m \u001b[0;34m\u001b[0m\u001b[0m\n",
      "\u001b[0;32m~/.local/lib/python3.8/site-packages/pandas/core/generic.py\u001b[0m in \u001b[0;36mto_csv\u001b[0;34m(self, path_or_buf, sep, na_rep, float_format, columns, header, index, index_label, mode, encoding, compression, quoting, quotechar, line_terminator, chunksize, date_format, doublequote, escapechar, decimal, errors)\u001b[0m\n\u001b[1;32m   3168\u001b[0m             \u001b[0mdecimal\u001b[0m\u001b[0;34m=\u001b[0m\u001b[0mdecimal\u001b[0m\u001b[0;34m,\u001b[0m\u001b[0;34m\u001b[0m\u001b[0;34m\u001b[0m\u001b[0m\n\u001b[1;32m   3169\u001b[0m         )\n\u001b[0;32m-> 3170\u001b[0;31m         \u001b[0mformatter\u001b[0m\u001b[0;34m.\u001b[0m\u001b[0msave\u001b[0m\u001b[0;34m(\u001b[0m\u001b[0;34m)\u001b[0m\u001b[0;34m\u001b[0m\u001b[0;34m\u001b[0m\u001b[0m\n\u001b[0m\u001b[1;32m   3171\u001b[0m \u001b[0;34m\u001b[0m\u001b[0m\n\u001b[1;32m   3172\u001b[0m         \u001b[0;32mif\u001b[0m \u001b[0mpath_or_buf\u001b[0m \u001b[0;32mis\u001b[0m \u001b[0;32mNone\u001b[0m\u001b[0;34m:\u001b[0m\u001b[0;34m\u001b[0m\u001b[0;34m\u001b[0m\u001b[0m\n",
      "\u001b[0;32m~/.local/lib/python3.8/site-packages/pandas/io/formats/csvs.py\u001b[0m in \u001b[0;36msave\u001b[0;34m(self)\u001b[0m\n\u001b[1;32m    183\u001b[0m             \u001b[0mclose\u001b[0m \u001b[0;34m=\u001b[0m \u001b[0;32mFalse\u001b[0m\u001b[0;34m\u001b[0m\u001b[0;34m\u001b[0m\u001b[0m\n\u001b[1;32m    184\u001b[0m         \u001b[0;32melse\u001b[0m\u001b[0;34m:\u001b[0m\u001b[0;34m\u001b[0m\u001b[0;34m\u001b[0m\u001b[0m\n\u001b[0;32m--> 185\u001b[0;31m             f, handles = get_handle(\n\u001b[0m\u001b[1;32m    186\u001b[0m                 \u001b[0mself\u001b[0m\u001b[0;34m.\u001b[0m\u001b[0mpath_or_buf\u001b[0m\u001b[0;34m,\u001b[0m\u001b[0;34m\u001b[0m\u001b[0;34m\u001b[0m\u001b[0m\n\u001b[1;32m    187\u001b[0m                 \u001b[0mself\u001b[0m\u001b[0;34m.\u001b[0m\u001b[0mmode\u001b[0m\u001b[0;34m,\u001b[0m\u001b[0;34m\u001b[0m\u001b[0;34m\u001b[0m\u001b[0m\n",
      "\u001b[0;32m~/.local/lib/python3.8/site-packages/pandas/io/common.py\u001b[0m in \u001b[0;36mget_handle\u001b[0;34m(path_or_buf, mode, encoding, compression, memory_map, is_text, errors)\u001b[0m\n\u001b[1;32m    491\u001b[0m         \u001b[0;32mif\u001b[0m \u001b[0mencoding\u001b[0m\u001b[0;34m:\u001b[0m\u001b[0;34m\u001b[0m\u001b[0;34m\u001b[0m\u001b[0m\n\u001b[1;32m    492\u001b[0m             \u001b[0;31m# Encoding\u001b[0m\u001b[0;34m\u001b[0m\u001b[0;34m\u001b[0m\u001b[0;34m\u001b[0m\u001b[0m\n\u001b[0;32m--> 493\u001b[0;31m             \u001b[0mf\u001b[0m \u001b[0;34m=\u001b[0m \u001b[0mopen\u001b[0m\u001b[0;34m(\u001b[0m\u001b[0mpath_or_buf\u001b[0m\u001b[0;34m,\u001b[0m \u001b[0mmode\u001b[0m\u001b[0;34m,\u001b[0m \u001b[0mencoding\u001b[0m\u001b[0;34m=\u001b[0m\u001b[0mencoding\u001b[0m\u001b[0;34m,\u001b[0m \u001b[0merrors\u001b[0m\u001b[0;34m=\u001b[0m\u001b[0merrors\u001b[0m\u001b[0;34m,\u001b[0m \u001b[0mnewline\u001b[0m\u001b[0;34m=\u001b[0m\u001b[0;34m\"\"\u001b[0m\u001b[0;34m)\u001b[0m\u001b[0;34m\u001b[0m\u001b[0;34m\u001b[0m\u001b[0m\n\u001b[0m\u001b[1;32m    494\u001b[0m         \u001b[0;32melif\u001b[0m \u001b[0mis_text\u001b[0m\u001b[0;34m:\u001b[0m\u001b[0;34m\u001b[0m\u001b[0;34m\u001b[0m\u001b[0m\n\u001b[1;32m    495\u001b[0m             \u001b[0;31m# No explicit encoding\u001b[0m\u001b[0;34m\u001b[0m\u001b[0;34m\u001b[0m\u001b[0;34m\u001b[0m\u001b[0m\n",
      "\u001b[0;31mFileNotFoundError\u001b[0m: [Errno 2] No such file or directory: '/Users/jbmasson/Desktop/test_displacement.txt'"
     ]
    }
   ],
   "source": [
    "path_file = '/Users/jbmasson/Desktop/test_displacement.txt'\n",
    "liste_array  = position_and_displacement_from_assignment(liste_assingment, liste_row, liste_col,movie_per_frame,path_file)"
   ]
  },
  {
   "cell_type": "code",
   "execution_count": null,
   "metadata": {},
   "outputs": [],
   "source": [
    "liste_array.shape"
   ]
  },
  {
   "cell_type": "code",
   "execution_count": null,
   "metadata": {},
   "outputs": [],
   "source": [
    "np.size(liste)"
   ]
  },
  {
   "cell_type": "code",
   "execution_count": null,
   "metadata": {},
   "outputs": [],
   "source": [
    "liste2  = np.vstack(liste)"
   ]
  },
  {
   "cell_type": "code",
   "execution_count": null,
   "metadata": {},
   "outputs": [],
   "source": [
    "liste2.shape"
   ]
  },
  {
   "cell_type": "code",
   "execution_count": null,
   "metadata": {},
   "outputs": [],
   "source": [
    "np.size([])"
   ]
  },
  {
   "cell_type": "code",
   "execution_count": null,
   "metadata": {},
   "outputs": [],
   "source": [
    "indice =15257\n",
    "print(liste_row[indice])\n",
    "print(liste_col[indice])\n",
    "plot_linking_two_images(movie_per_frame, indice, liste_row[indice], liste_col[indice] )"
   ]
  },
  {
   "cell_type": "code",
   "execution_count": null,
   "metadata": {},
   "outputs": [],
   "source": [
    "print((M,N))"
   ]
  },
  {
   "cell_type": "code",
   "execution_count": null,
   "metadata": {},
   "outputs": [],
   "source": [
    "row_eff"
   ]
  },
  {
   "cell_type": "code",
   "execution_count": null,
   "metadata": {},
   "outputs": [],
   "source": [
    "col_eff"
   ]
  },
  {
   "cell_type": "code",
   "execution_count": null,
   "metadata": {},
   "outputs": [],
   "source": [
    "ssingment  = np.zeros((M,N))"
   ]
  },
  {
   "cell_type": "code",
   "execution_count": null,
   "metadata": {},
   "outputs": [],
   "source": [
    "ssingment.shape"
   ]
  },
  {
   "cell_type": "code",
   "execution_count": null,
   "metadata": {},
   "outputs": [],
   "source": [
    "row_ind, col_ind = linear_sum_assignment(C_reduced_corrected)\n",
    "global_row       = []\n",
    "global_col       = []\n",
    "assingment       = np.zeros((M,N))"
   ]
  },
  {
   "cell_type": "code",
   "execution_count": null,
   "metadata": {},
   "outputs": [],
   "source": [
    "row_ind"
   ]
  },
  {
   "cell_type": "code",
   "execution_count": null,
   "metadata": {},
   "outputs": [],
   "source": [
    "col_ind"
   ]
  },
  {
   "cell_type": "code",
   "execution_count": null,
   "metadata": {},
   "outputs": [],
   "source": [
    "# adjust the isze of the matrix to ensure reasonnable assugments\n",
    "edge             = np.zeros((nn,nn)) \n",
    "edge[:,:]        = C_reduced[:,:]\n",
    "non_inf          = ~np.isinf(C_reduced)\n",
    "edge[non_inf]    = 0\n",
    "n_add            = correct_deficiencies(edge)\n",
    "nn               = nn + n_add\n",
    "## corrected matric cost function "
   ]
  },
  {
   "cell_type": "code",
   "execution_count": null,
   "metadata": {},
   "outputs": [],
   "source": [
    "C_reduced"
   ]
  },
  {
   "cell_type": "code",
   "execution_count": null,
   "metadata": {},
   "outputs": [],
   "source": [
    "indice = 18907"
   ]
  },
  {
   "cell_type": "code",
   "execution_count": null,
   "metadata": {},
   "outputs": [],
   "source": [
    "C        = get_cost_function(indice, movie_per_frame)\n",
    "C_reduced_corrected, C_reduced, edge, d_max, row_reduced, col_reduced,M,N, n_row_reduced, n_col_reduced,anomaly = correct_cost_function(C,length_high)"
   ]
  },
  {
   "cell_type": "code",
   "execution_count": null,
   "metadata": {},
   "outputs": [],
   "source": [
    "C        = get_cost_function(indice, movie_per_frame)"
   ]
  },
  {
   "cell_type": "code",
   "execution_count": null,
   "metadata": {},
   "outputs": [],
   "source": [
    "(M,N)            = C.shape\n",
    "# cut the links\n",
    "l2               = length_high**2\n",
    "C[C>l2]          = np.inf\n",
    "# positions whith no link possible\n",
    "non_inf          = ~np.isinf(C)\n",
    "num_col          = np.sum(non_inf,axis=0)\n",
    "num_row          = np.sum(non_inf,axis=1)\n",
    "## portion that need to be optimised\n",
    "row_reduced      = np.where(num_row != 0);\n",
    "col_reduced      = np.where(num_col != 0);\n",
    "n_row_reduced    = np.size(row_reduced)\n",
    "n_col_reduced    = np.size(col_reduced)\n",
    "\n",
    "nn               = np.maximum(n_row_reduced,n_col_reduced)"
   ]
  },
  {
   "cell_type": "code",
   "execution_count": null,
   "metadata": {},
   "outputs": [],
   "source": [
    "CC               = np.squeeze(C[row_reduced,:])\n",
    "CC               = np.squeeze(CC[:,col_reduced])\n",
    "#square the matrix\n",
    "nn               = np.maximum(n_row_reduced,n_col_reduced)\n",
    "C_reduced        = np.zeros((nn,nn))\n",
    "#C_reduced        = np.full((nn, nn), np.inf)\n",
    "C_reduced[0:n_row_reduced,0] = CC[:]\n",
    "d_max            = np.amax(C_reduced , where=~np.isinf(C_reduced) , initial=-1)\n",
    "\n",
    "# adjust the isze of the matrix to ensure reasonnable assugments\n",
    "edge             = np.zeros((nn,nn)) \n",
    "edge[:,:]        = C_reduced[:,:]\n",
    "non_inf          = ~np.isinf(C_reduced)\n",
    "edge[non_inf]    = 0\n",
    "n_add            = correct_deficiencies(edge)\n",
    "nn               = nn + n_add\n",
    "## corrected matric cost function \n",
    "\n",
    "C_reduced_corrected  = np.ones((nn,nn))*d_max\n",
    "C_reduced_corrected[0:n_row_reduced,0] =  CC[:]\n",
    "##elements usefull for final assigment \n",
    "\n",
    "row_reduced      = np.squeeze(np.array(row_reduced))\n",
    "col_reduced      = np.squeeze(np.array(col_reduced))\n",
    "\n",
    "inf_loc          = np.isinf(C_reduced_corrected)\n",
    "C_reduced_corrected[inf_loc] = d_max*1e10\n",
    "anomaly          = 1\n"
   ]
  },
  {
   "cell_type": "code",
   "execution_count": null,
   "metadata": {},
   "outputs": [],
   "source": [
    "C_reduced_corrected"
   ]
  },
  {
   "cell_type": "code",
   "execution_count": null,
   "metadata": {},
   "outputs": [],
   "source": [
    "C_reduced_corrected"
   ]
  },
  {
   "cell_type": "code",
   "execution_count": null,
   "metadata": {},
   "outputs": [],
   "source": [
    "C_reduced"
   ]
  },
  {
   "cell_type": "code",
   "execution_count": null,
   "metadata": {},
   "outputs": [],
   "source": [
    "C_reduced[0:n_row_reduced,0] = CC[:,:]"
   ]
  },
  {
   "cell_type": "code",
   "execution_count": null,
   "metadata": {},
   "outputs": [],
   "source": [
    "row_ind, col_ind = linear_sum_assignment(C_reduced_corrected)"
   ]
  },
  {
   "cell_type": "code",
   "execution_count": null,
   "metadata": {},
   "outputs": [],
   "source": [
    "print((M,N))"
   ]
  },
  {
   "cell_type": "code",
   "execution_count": null,
   "metadata": {},
   "outputs": [],
   "source": [
    "assigment, global_row, global_col = get_assigment_matrix_from_reduced_cost(C_reduced_corrected,row_reduced,col_reduced,M,N,n_col_reduced,anomaly)"
   ]
  },
  {
   "cell_type": "code",
   "execution_count": null,
   "metadata": {},
   "outputs": [],
   "source": [
    "##elements usefull for final assigment \n",
    "\n",
    "row_reduced      = np.squeeze(np.array(row_reduced))\n",
    "col_reduced      = np.squeeze(np.array(col_reduced))\n",
    "\n",
    "if nn>1:\n",
    "    inf_loc          = np.isinf(C_reduced_corrected)\n",
    "    C_reduced_corrected[inf_loc] = d_max*1e10"
   ]
  },
  {
   "cell_type": "code",
   "execution_count": null,
   "metadata": {},
   "outputs": [],
   "source": [
    "test =  np.array([])"
   ]
  },
  {
   "cell_type": "code",
   "execution_count": null,
   "metadata": {},
   "outputs": [],
   "source": [
    "print(test)"
   ]
  },
  {
   "cell_type": "code",
   "execution_count": null,
   "metadata": {},
   "outputs": [],
   "source": [
    "x = np.array([5]) "
   ]
  },
  {
   "cell_type": "code",
   "execution_count": null,
   "metadata": {},
   "outputs": [],
   "source": [
    "x.shape"
   ]
  },
  {
   "cell_type": "code",
   "execution_count": null,
   "metadata": {},
   "outputs": [],
   "source": [
    "xx = x[np.newaxis, :]"
   ]
  },
  {
   "cell_type": "code",
   "execution_count": null,
   "metadata": {},
   "outputs": [],
   "source": [
    "xx.shape"
   ]
  },
  {
   "cell_type": "code",
   "execution_count": null,
   "metadata": {},
   "outputs": [],
   "source": [
    "print(xx)"
   ]
  },
  {
   "cell_type": "code",
   "execution_count": null,
   "metadata": {},
   "outputs": [],
   "source": [
    "np.zeros(1).shape"
   ]
  },
  {
   "cell_type": "code",
   "execution_count": null,
   "metadata": {},
   "outputs": [],
   "source": [
    "np.size([])"
   ]
  },
  {
   "cell_type": "code",
   "execution_count": null,
   "metadata": {},
   "outputs": [],
   "source": [
    "np.zeros(1)"
   ]
  },
  {
   "cell_type": "code",
   "execution_count": null,
   "metadata": {},
   "outputs": [],
   "source": [
    "C_bis = np.random.rand(1,10)"
   ]
  },
  {
   "cell_type": "code",
   "execution_count": null,
   "metadata": {},
   "outputs": [],
   "source": [
    "C_bis"
   ]
  },
  {
   "cell_type": "code",
   "execution_count": null,
   "metadata": {},
   "outputs": [],
   "source": [
    "row_ind, col_ind = linear_sum_assignment(C_bis)"
   ]
  },
  {
   "cell_type": "code",
   "execution_count": null,
   "metadata": {},
   "outputs": [],
   "source": [
    "row_ind"
   ]
  },
  {
   "cell_type": "code",
   "execution_count": null,
   "metadata": {},
   "outputs": [],
   "source": [
    "col_ind"
   ]
  }
 ],
 "metadata": {
  "kernelspec": {
   "display_name": "Python 3",
   "language": "python",
   "name": "python3"
  },
  "language_info": {
   "codemirror_mode": {
    "name": "ipython",
    "version": 3
   },
   "file_extension": ".py",
   "mimetype": "text/x-python",
   "name": "python",
   "nbconvert_exporter": "python",
   "pygments_lexer": "ipython3",
   "version": "3.8.5"
  }
 },
 "nbformat": 4,
 "nbformat_minor": 2
}
