{
 "cells": [
  {
   "cell_type": "markdown",
   "metadata": {},
   "source": [
    "This notebook references the following tutorials:\n",
    "\n",
    "* building and saving an analysis tree\n",
    "* loading and browsing an analysis tree\n",
    "\n",
    "### Note:\n",
    "The examples below call the low-level API and will be updated so that the higher-level `RWAnalyzer` API is called instead."
   ]
  },
  {
   "cell_type": "markdown",
   "metadata": {},
   "source": [
    "# Building and saving an analysis tree\n",
    "\n",
    "Analysis tree with translocation data:"
   ]
  },
  {
   "cell_type": "code",
   "execution_count": 1,
   "metadata": {},
   "outputs": [
    {
     "name": "stdout",
     "output_type": "stream",
     "text": [
      "<Analyses <class 'pandas.core.frame.DataFrame'>>\n"
     ]
    },
    {
     "name": "stderr",
     "output_type": "stream",
     "text": [
      "/home/flaurent/github/RWA-python/rwa/hdf5.py:185: FutureWarning: The Panel class is removed from pandas. Accessing it from the top-level namespace will also be removed in the next version\n",
      "  from pandas import Panel # Panel has been flagged deprecated\n"
     ]
    }
   ],
   "source": [
    "\n",
    "from tramway.helper import *\n",
    "\n",
    "# preliminary: if trajectory_file does not exist, generate it\n",
    "from tutorial import *\n",
    "load_default_trajectories()\n",
    "\n",
    "# load trajectory_file\n",
    "trajectories = load_xyt(trajectory_file)\n",
    "\n",
    "# the (trans-)location data is the top node of the analysis tree\n",
    "analysis_tree = Analyses(trajectories)\n",
    "\n",
    "print(analysis_tree)\n",
    "#<Analyses <class 'pandas.core.frame.DataFrame'>>\n"
   ]
  },
  {
   "cell_type": "markdown",
   "metadata": {},
   "source": [
    "Analysis tree with first partition:"
   ]
  },
  {
   "cell_type": "code",
   "execution_count": 2,
   "metadata": {},
   "outputs": [
    {
     "name": "stdout",
     "output_type": "stream",
     "text": [
      "<class 'pandas.core.frame.DataFrame'>\n",
      "\t'hexagonal mesh' <class 'tramway.tessellation.base.Partition'>\n"
     ]
    }
   ],
   "source": [
    "\n",
    "# partition the locations into space cells\n",
    "hexagonal_cells = tessellate(trajectories, 'hexagon')\n",
    "\n",
    "# the partition is a first analysis; let's append it below trajs with label 'hexagonal mesh'\n",
    "analysis_tree['hexagonal mesh'] = hexagonal_cells\n",
    "\n",
    "# the two lines above could be combined the following way:\n",
    "#hexagonal_cells = tessellate(analysis_tree, 'hexagon', label='hexagonal mesh')\n",
    "\n",
    "print(analysis_tree)\n",
    "#<class 'pandas.core.frame.DataFrame'>\n",
    "#\t'hexagonal mesh' <class 'tramway.tessellation.base.CellStats'>\n"
   ]
  },
  {
   "cell_type": "markdown",
   "metadata": {},
   "source": [
    "Analysis tree with second partition:"
   ]
  },
  {
   "cell_type": "code",
   "execution_count": 3,
   "metadata": {},
   "outputs": [
    {
     "name": "stdout",
     "output_type": "stream",
     "text": [
      "<class 'pandas.core.frame.DataFrame'>\n",
      "\t'hexagonal mesh' <class 'tramway.tessellation.base.Partition'>\n",
      "\t'random mesh' <class 'tramway.tessellation.base.Partition'>\n"
     ]
    }
   ],
   "source": [
    "\n",
    "# make another partition\n",
    "random_cells = tessellate(trajectories, 'random', cell_count=100)\n",
    "\n",
    "# ...and add it to the analysis_tree below trajs with label 'random mesh'\n",
    "analysis_tree['random mesh'] = random_cells\n",
    "\n",
    "# similarly, the two lines above could be combined the following way:\n",
    "#random_cells = tessellate(analysis_tree, 'random', cell_count=100, label='random mesh')\n",
    "\n",
    "print(analysis_tree)\n",
    "#<class 'pandas.core.frame.DataFrame'>\n",
    "#\t'hexagonal mesh' <class 'tramway.tessellation.base.CellStats'>\n",
    "#\t'random mesh' <class 'tramway.tessellation.base.CellStats'>\n"
   ]
  },
  {
   "cell_type": "markdown",
   "metadata": {},
   "source": [
    "Analysis tree with maps for the second partition:"
   ]
  },
  {
   "cell_type": "code",
   "execution_count": 4,
   "metadata": {},
   "outputs": [
    {
     "name": "stdout",
     "output_type": "stream",
     "text": [
      "<class 'pandas.core.frame.DataFrame'>\n",
      "\t'hexagonal mesh' <class 'tramway.tessellation.base.Partition'>\n",
      "\t'random mesh' <class 'tramway.tessellation.base.Partition'>\n",
      "\t\t'D' <class 'tramway.inference.base.Maps'>\n"
     ]
    }
   ],
   "source": [
    "\n",
    "# infer in D mode with random_cells\n",
    "random_maps = infer(random_cells, 'D', sigma=0.01) # sigma = positioning error\n",
    "\n",
    "# add the inferred maps below 'random mesh' with label 'D'\n",
    "analysis_tree['random mesh']['D'] = random_maps\n",
    "\n",
    "# again, the two lines above could be combined the following way:\n",
    "#random_maps = infer(analysis_tree, 'D', sigma=0.01, input_label='random mesh', output_label='D')\n",
    "\n",
    "print(analysis_tree)\n",
    "#<class 'pandas.core.frame.DataFrame'>\n",
    "#\t'hexagonal mesh' <class 'tramway.tessellation.base.CellStats'>\n",
    "#\t'random mesh' <class 'tramway.tessellation.base.CellStats'>\n",
    "#\t\t'D' <class 'tramway.inference.base.Maps'>\n"
   ]
  },
  {
   "cell_type": "markdown",
   "metadata": {},
   "source": [
    "Analysis tree with maps for the first partition:"
   ]
  },
  {
   "cell_type": "code",
   "execution_count": 5,
   "metadata": {},
   "outputs": [
    {
     "name": "stdout",
     "output_type": "stream",
     "text": [
      "<class 'pandas.core.frame.DataFrame'>\n",
      "\t'hexagonal mesh' <class 'tramway.tessellation.base.Partition'>\n",
      "\t\t'D' <class 'tramway.inference.base.Maps'>\n",
      "\t'random mesh' <class 'tramway.tessellation.base.Partition'>\n",
      "\t\t'D' <class 'tramway.inference.base.Maps'>\n"
     ]
    }
   ],
   "source": [
    "\n",
    "# infer in D mode with snr extensions (for the bayes_factors plugin) and hexagonal_cells\n",
    "hexagonal_maps = infer(hexagonal_cells, 'd.conj_prior', sigma=0.01)\n",
    "\n",
    "# add the inferred maps below 'hexagonal mesh' with label 'D' as well\n",
    "analysis_tree['hexagonal mesh']['D'] = hexagonal_maps\n",
    "\n",
    "print(analysis_tree)\n",
    "#<class 'pandas.core.frame.DataFrame'>\n",
    "#\t'hexagonal mesh' <class 'tramway.tessellation.base.CellStats'>\n",
    "#\t\t'D' <class 'tramway.inference.base.Maps'>\n",
    "#\t'random mesh' <class 'tramway.tessellation.base.CellStats'>\n",
    "#\t\t'D' <class 'tramway.inference.base.Maps'>\n"
   ]
  },
  {
   "cell_type": "markdown",
   "metadata": {},
   "source": [
    "Analysis tree with Bayes factor maps:"
   ]
  },
  {
   "cell_type": "code",
   "execution_count": 6,
   "metadata": {},
   "outputs": [
    {
     "name": "stderr",
     "output_type": "stream",
     "text": [
      "WARNING:root:A NaN value was present in the input parameters for the following cells: [9].\n",
      "Bayes factor calculations were skipped for them\n"
     ]
    },
    {
     "name": "stdout",
     "output_type": "stream",
     "text": [
      "<class 'pandas.core.frame.DataFrame'>\n",
      "\t'hexagonal mesh' <class 'tramway.tessellation.base.Partition'>\n",
      "\t\t'D' <class 'tramway.inference.base.Maps'>\n",
      "\t\t\t'Bayes factors' <class 'tramway.inference.base.Maps'>\n",
      "\t'random mesh' <class 'tramway.tessellation.base.Partition'>\n",
      "\t\t'D' <class 'tramway.inference.base.Maps'>\n"
     ]
    },
    {
     "name": "stderr",
     "output_type": "stream",
     "text": [
      "/home/flaurent/github/TRamWAy/tramway/inference/bayes_factors/group_by_sign.py:73: RuntimeWarning: invalid value encountered in greater_equal\n",
      "  group_forces = 1 * (group_lg_B >= np.log10(B_threshold)) - \\\n",
      "/home/flaurent/github/TRamWAy/tramway/inference/bayes_factors/group_by_sign.py:74: RuntimeWarning: invalid value encountered in less_equal\n",
      "  1 * (group_lg_B <= -np.log10(B_threshold))\n"
     ]
    }
   ],
   "source": [
    "\n",
    "# compute the Bayes factor on these latter \"maps\"\n",
    "bayes_factors = infer(analysis_tree, 'bayes_factor', sigma=0.01, input_label=('hexagonal mesh', 'D'), output_label='Bayes factors')\n",
    "# here, the analysis tree is readily updated\n",
    "\n",
    "print(analysis_tree)\n",
    "#<class 'pandas.core.frame.DataFrame'>\n",
    "#\t'hexagonal mesh' <class 'tramway.tessellation.base.CellStats'>\n",
    "#\t\t'D' <class 'tramway.inference.base.Maps'>\n",
    "#\t\t\t'Bayes factors' <class 'tramway.inference.base.Maps'>\n",
    "#\t'random mesh' <class 'tramway.tessellation.base.CellStats'>\n",
    "#\t\t'D' <class 'tramway.inference.base.Maps'>\n",
    "\n",
    "# save the analyses\n",
    "save_rwa('my_analyses.rwa', analysis_tree)\n"
   ]
  },
  {
   "cell_type": "markdown",
   "metadata": {},
   "source": [
    "# Loading and browsing an analysis tree\n",
    "\n",
    "Loaded analysis tree:"
   ]
  },
  {
   "cell_type": "code",
   "execution_count": 7,
   "metadata": {},
   "outputs": [
    {
     "name": "stdout",
     "output_type": "stream",
     "text": [
      "<class 'pandas.core.frame.DataFrame'>\n",
      "\t'hexagonal mesh' <class 'tramway.tessellation.base.Partition'>\n",
      "\t\t'D' <class 'tramway.inference.base.Maps'>\n",
      "\t\t\t'Bayes factors' <class 'tramway.inference.base.Maps'>\n",
      "\t'random mesh' <class 'tramway.tessellation.base.Partition'>\n",
      "\t\t'D' <class 'tramway.inference.base.Maps'>\n"
     ]
    }
   ],
   "source": [
    "\n",
    "from tramway.core.hdf5 import load_rwa\n",
    "# or if you do not mind to load many modules:\n",
    "#from tramway.helper import load_rwa\n",
    "\n",
    "# load\n",
    "analysis_tree = load_rwa('my_analyses.rwa')\n",
    "\n",
    "# print the tree structure\n",
    "print(analysis_tree)\n",
    "#<class 'pandas.core.frame.DataFrame'>\n",
    "#\t'hexagonal mesh' <class 'tramway.tessellation.base.CellStats'>\n",
    "#\t\t'D' <class 'tramway.inference.base.Maps'>\n",
    "#\t\t\t'Bayes factors' <class 'tramway.inference.base.Maps'>\n",
    "#\t'random mesh' <class 'tramway.tessellation.base.CellStats'>\n",
    "#\t\t'D' <class 'tramway.inference.base.Maps'>\n"
   ]
  },
  {
   "cell_type": "markdown",
   "metadata": {},
   "source": [
    "Subtree from the `'random mesh'` node:"
   ]
  },
  {
   "cell_type": "code",
   "execution_count": 8,
   "metadata": {},
   "outputs": [
    {
     "name": "stdout",
     "output_type": "stream",
     "text": [
      "<class 'tramway.tessellation.base.Partition'>\n",
      "\t'D' <class 'tramway.inference.base.Maps'>\n"
     ]
    }
   ],
   "source": [
    "\n",
    "# retrieve some data\n",
    "trajs = analysis_tree.data\n",
    "hexagonal_cells = analysis_tree['hexagonal mesh'].data\n",
    "hexagonal_maps = analysis_tree['hexagonal mesh']['D'].data\n",
    "#...\n",
    "\n",
    "# print a subtree\n",
    "print(analysis_tree['random mesh'])\n",
    "#<class 'tramway.tessellation.base.CellStats'>\n",
    "#\t'D' <class 'tramway.inference.base.Maps'>\n"
   ]
  },
  {
   "cell_type": "markdown",
   "metadata": {},
   "source": [
    "`'random mesh'` partition:"
   ]
  },
  {
   "cell_type": "code",
   "execution_count": 9,
   "metadata": {},
   "outputs": [
    {
     "name": "stdout",
     "output_type": "stream",
     "text": [
      "tessellation:    <class 'tramway.tessellation.random.RandomMesh'>\n",
      "points:          <class 'pandas.core.frame.DataFrame'>\n",
      "cell_index:      <class 'numpy.ndarray'>\n",
      "location_count:  None\n",
      "number_of_cells: 90\n",
      "bounding_box:    None\n",
      "@cell_count:     100\n",
      "@method:         random\n",
      "@tessellation:   avg_location_count: 80\n",
      "                 avg_probability:    0.041109969167523124\n",
      "                 cell_count:         100\n"
     ]
    }
   ],
   "source": [
    "\n",
    "# print some data\n",
    "print(analysis_tree['random mesh'].data)\n",
    "#location_count:  None\n",
    "#@time_window:    duration:           1.0\n",
    "#                 shift:              1.0\n",
    "#                 time_dimension:     True\n",
    "#@upper_bound:    [ 1.1  1.1]\n",
    "#cell_index:      <class 'numpy.ndarray'>\n",
    "#@partition:      metric:             euclidean\n",
    "#                 knn:                10\n",
    "#@method:         random\n",
    "#bounding_box:    None\n",
    "#@cell_count:     100\n",
    "#points:          <class 'pandas.core.frame.DataFrame'>\n",
    "#tessellation:    <class 'tramway.tessellation.random.RandomMesh'>\n",
    "#@lower_bound:    [-0.1 -0.1]\n",
    "#number_of_cells: 100\n",
    "#@tessellation:   cell_count:         100\n",
    "#                 avg_probability:    0.033927056827820185\n",
    "#                 avg_location_count: 80\n"
   ]
  },
  {
   "cell_type": "markdown",
   "metadata": {},
   "source": [
    "`'random mesh'->'D'` maps:"
   ]
  },
  {
   "cell_type": "code",
   "execution_count": 10,
   "metadata": {},
   "outputs": [
    {
     "name": "stdout",
     "output_type": "stream",
     "text": [
      "mode:     d\n",
      "runtime:  0.18325233459472656\n",
      "sigma:    0.01\n",
      "features: ['diffusivity']\n",
      "maps:     <class 'pandas.core.frame.DataFrame'>\n"
     ]
    }
   ],
   "source": [
    "\n",
    "print(analysis_tree['random mesh']['D'].data)\n",
    "#mode:      d\n",
    "#maps:      <class 'pandas.core.frame.DataFrame'>\n",
    "#sigma:     0.01\n",
    "#runtime:   0.11431741714477539\n",
    "#features: ['diffusivity']\n"
   ]
  }
 ],
 "metadata": {
  "kernelspec": {
   "display_name": "Python 3",
   "language": "python",
   "name": "python3"
  },
  "language_info": {
   "codemirror_mode": {
    "name": "ipython",
    "version": 3
   },
   "file_extension": ".py",
   "mimetype": "text/x-python",
   "name": "python",
   "nbconvert_exporter": "python",
   "pygments_lexer": "ipython3",
   "version": "3.8.5"
  }
 },
 "nbformat": 4,
 "nbformat_minor": 2
}
