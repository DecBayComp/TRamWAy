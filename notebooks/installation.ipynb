{
 "cells": [
  {
   "cell_type": "markdown",
   "metadata": {},
   "source": [
    "# TRamWAy installation from GitHub\n",
    "\n",
    "Get the HDF5 library, for example from: https://www.hdfgroup.org/downloads/hdf5/\n",
    "\n",
    "note: this is NOT a Python package and it should be installed in the OS's package system.\n",
    "\n",
    "Run the following 4 commands in the directory where you would like the TRamWAy source to be:\n",
    "\n",
    "    git clone https://github.com/DecBayComp/TRamWAy\n",
    "    cd TRamWAy\n",
    "    pip3 install --user -r requirements.txt\n",
    "    pip3 install --user -e .\n"
   ]
  },
  {
   "cell_type": "markdown",
   "metadata": {},
   "source": [
    "# Update TRamWAy installed from GitHub\n",
    "\n",
    "Go to the TRamWAy source directory and update the source:\n",
    "    \n",
    "    cd TRamWAy\n",
    "    git pull\n",
    "\n",
    "If you have not updated in a while, you may reinstall TRamWAy:\n",
    "\n",
    "    pip3 install --upgrade --user -e .\n",
    "\n",
    "If you are running Python3 sessions (e.g. notebooks), restart them."
   ]
  },
  {
   "cell_type": "code",
   "execution_count": null,
   "metadata": {},
   "outputs": [],
   "source": []
  }
 ],
 "metadata": {
  "kernelspec": {
   "display_name": "Python 3",
   "language": "python",
   "name": "python3"
  },
  "language_info": {
   "codemirror_mode": {
    "name": "ipython",
    "version": 3
   },
   "file_extension": ".py",
   "mimetype": "text/x-python",
   "name": "python",
   "nbconvert_exporter": "python",
   "pygments_lexer": "ipython3",
   "version": "3.7.4"
  }
 },
 "nbformat": 4,
 "nbformat_minor": 2
}
